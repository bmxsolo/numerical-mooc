{
 "cells": [
  {
   "cell_type": "markdown",
   "metadata": {},
   "source": [
    "# PHYS-F302 : Projet Stokes Flow \n",
    "# Saerens Henri et Musibau Solomon"
   ]
  },
  {
   "cell_type": "markdown",
   "metadata": {},
   "source": [
    "## **INTRODUCTION**\n",
    "\n",
    "Dans ce travail, nous allons discuter de l'hypothèse d'écoulements de Stokes qui est valide pour des écoulements à faibles nombres de Reynolds. Sous cette hypothèse on peut simplifier les équations de Navier-Stokes pour obtenir l'équation biharmonique pour la \"stream function\" (fonction de courant) qui est une fonction qui permet d'obtenir les trajectoires des particules en écoulement stationnaire. Plus précisément, nous allons résoudre un problème appellé \"lid-driven cavity flow\" à l'aide d'un algorithme : la méthode du gradient conjugué. "
   ]
  },
  {
   "cell_type": "markdown",
   "metadata": {},
   "source": [
    "\n",
    "Considérons une cavité de forme carré remplie d'un fluide, dont les parois gauche, droite et inférieure sont immobiles, tandis que la paroi supérieure sera déplacée à vitesse constante $u=1$ en supposant que le fluide ne puisse s'échapper de la cavité.\n",
    "\n",
    "Le but sera de visualiser le champ de courant créé à l'intérieur de cette cavité suite au mouvement constant de la paroi supérieure, et ceci pourra être considéré comme un état stationnaire.\n",
    "\n",
    "On va alors chercher à décrire l'écoulement de Stokes dans cette cavité de forme carré.\n",
    "\n",
    "Dans ce but, nous allons résoudre numériquement l'équation biharmonique provenant des équations de Navier-Stokes suivante:\n",
    "\n",
    "\\begin{equation}\n",
    "\\nabla^4\\psi=0\n",
    "\\end{equation}\n",
    "\n",
    "où $\\psi$ représente la \"stream function\", ou \"fonction de courant\" et est définie par:\n",
    "\n",
    "\\begin{equation}\n",
    "u=\\frac{\\partial\\psi}{\\partial y} \\text{       et       } v=-\\frac{\\partial \\psi}{\\partial x}\n",
    "\\end{equation}\n",
    "$u$ et $v$ étant les composantes de la vitesse d'écoulement."
   ]
  },
  {
   "cell_type": "markdown",
   "metadata": {},
   "source": [
    "## Conditions aux bords \n",
    "\n",
    "Comme imposé dans l'énoncé, les condtions aux bords pour ce problème seront les suivantes:\n",
    "\n",
    "-Pour le bord inférieur: $\\psi=0$ et $\\frac{\\partial \\psi}{\\partial y}=0$\n",
    "\n",
    "-Pour le bord supérieur: $\\psi=0$ et $\\frac{\\partial \\psi}{\\partial y}=1$\n",
    "\n",
    "-Pour le bord gauche: $\\psi=0$ et $\\frac{\\partial \\psi}{\\partial x}=0$\n",
    "\n",
    "-Pour le bord droit: $\\psi=0$ et $\\frac{\\partial \\psi}{\\partial x}=0$\n",
    "\n",
    "On peut justifier ces conditions de la manière suivante:\n",
    "\n",
    "On peut supposer le bord comme une ligne de courant refermée sur elle même. En ce qui concerne la valeur de $\\psi$ le long de cette ligne, cela n'a pas beaucoup d'importance, donc pour simplifier le problème on peut se permettre de prendre $\\psi=0$ sur les bords.\n",
    "\n",
    "En ce qui concerne les conditions de Neuman, on dit dans l'énoncé que seule la paroi supérieure se déplace à une vitesse constante $u=1$ tandis que les autres sont fixes. Or $u=\\frac{\\partial \\psi}{\\partial y}$, on a donc bien $\\frac{\\partial \\psi}{\\partial y}=1$, et sur les bords on a bien 0 car les parois sont fixes."
   ]
  },
  {
   "cell_type": "markdown",
   "metadata": {},
   "source": [
    "## **Discrétisation de l'équation biharmonique**\n",
    "\n",
    "Le but du travail est de résoudre l'équation biharmonique pour $\\psi$ de manière numérique, pour cela on va utiliser la *Méthode du Gradient Conjugué* qui permet de résoudre un système d'équations linéaires dont la matrice associée est symétrique et définie positive, ce qui est le cas pour notre problème contenant l'opérateur linéaire Bilaplacien (voir module 5.04).\n",
    "\n",
    "Avant tout, nous devons discrétiser l'équation biharmonique à partir d'une discrétisation centrale du second ordre.\n",
    "\n",
    "Tout d'abord, le Laplacien de $\\psi$ est donné par:\n",
    "$$\\Delta\\psi=\\frac{\\partial^2 \\psi}{\\partial^2 x}+ \\frac{\\partial^2 \\psi}{\\partial^2 y}$$\n",
    "\n",
    "On discrétise cela avec une discrétisation centrée d'ordre 2: \n",
    "\n",
    "$$\\Delta \\psi=\\frac{\\psi_{i+1,j}-2\\psi_{i,j}+\\psi_{i-1,j}}{\\Delta x^2}+\\frac{\\psi_{i,j+1}-2\\psi_{i,j}+\\psi_{i,j-1}}{\\Delta y^2}$$\n",
    "\n",
    "où les $\\psi_{i,j}$ sont les valeurs de la stream function aux coordonnées $(i,j)$ du carré.\n",
    "\n",
    "On cherche maintenant à trouver $\\Delta(\\Delta \\psi)$. On va donc déterminer la discrétisation pour chacun des termes ci-dessus:\n",
    "\n",
    "\n",
    "$$\\Delta \\psi_{i+1,j}=\\frac{\\psi_{i+2,j}-2\\psi_{i+1,j}+\\psi_{i,j}}{\\Delta x^2}+\\frac{\\psi_{i+1,j+1}-2\\psi_{i+1,j}+\\psi_{i+1,j-1}}{\\Delta y^2}$$\n",
    "\n",
    "$$\\Delta \\psi_{i,j}=\\frac{\\psi_{i+1,j}-2\\psi_{i,j}+\\psi_{i-1,j}}{\\Delta x^2}+\\frac{\\psi_{i,j+1}-2\\psi_{i,j}+\\psi_{i,j-1}}{\\Delta y^2}$$\n",
    "\n",
    "$$\\Delta \\psi_{i-1,j}=\\frac{\\psi_{i,j}-2\\psi_{i-1,j}+\\psi_{i-2,j}}{\\Delta x^2}+\\frac{\\psi_{i-1,j+1}-2\\psi_{i-1,j}+\\psi_{i-1,j-1}}{\\Delta y^2}$$\n",
    "\n",
    "$$\\Delta \\psi_{i,j+1}=\\frac{\\psi_{i+1,j+1}-2\\psi_{i,j+1}+\\psi_{i-1,j+1}}{\\Delta x^2}+\\frac{\\psi_{i,j+2}-2\\psi_{i,j+1}+\\psi_{i,j}}{\\Delta y^2}$$\n",
    "\n",
    "$$\\Delta \\psi_{i,j-1}=\\frac{\\psi_{i+1,j-1}-2\\psi_{i,j-1}+\\psi_{i-1,j-1}}{\\Delta x^2}+\\frac{\\psi_{i,j}-2\\psi_{i,j-1}+\\psi_{i,j-2}}{\\Delta y^2}$$\n",
    "\n",
    "\n",
    "Ayant toutes ces relations, on peut développer $\\Delta(\\Delta \\psi)$:\n",
    "\n",
    "$$\\Delta(\\Delta \\psi)=\\Delta \\left(\\frac{\\psi_{i+1,j}-2\\psi_{i,j}+\\psi_{i-1,j}}{\\Delta x^2}\\right)+\\Delta \\left(\\frac{\\psi_{i,j+1}-2\\psi_{i,j}+\\psi_{i,j-1}}{\\Delta y^2}\\right)\\\\ =\\frac{1}{\\Delta x^2}\\left(\\Delta\\psi_{i+1,j}-2\\Delta\\psi_{i,j}+\\Delta\\psi_{i-1,j}\\right)+\n",
    "\\frac{1}{\\Delta y^2}\\left(\\Delta\\psi_{i,j+1}-2\\Delta\\psi_{i,j}+\\Delta\\psi_{i,j-1}\\right)$$\n",
    "\n",
    "Or dans notre cas, on a $\\Delta x=\\Delta y$ et aussi $\\nabla^4\\psi=\\Delta(\\Delta \\psi)=0$, ainsi:\n",
    "\n",
    "$$\\Delta(\\Delta \\psi)=\\Delta\\psi_{i+1,j}-4\\Delta\\psi_{i,j}+\\Delta\\psi_{i-1,j}+\\Delta\\psi_{i,j+1}+\\Delta\\psi_{i,j-1}=0$$\n",
    "\n",
    "En tenant compte de tout les résultats ci-dessus, on trouve:\n",
    "\n",
    "$$0=\\left[\\psi_{i+2,j}-2\\psi_{i+1,j}+\\psi_{i,j}+\\psi_{i+1,j+1}-2\\psi_{i+1,j}+\\psi_{i+1,j-1} \\right]-4\\left[\\psi_{i+1,j}-2\\psi_{i,j}+\\psi_{i-1,j}+\\psi_{i,j+1}-2\\psi_{i,j}+\\psi_{i,j-1} \\right]+\\left[\\psi_{i,j}-2\\psi_{i-1,j}+\\psi_{i-2,j}+\\psi_{i-1,j+1}-2\\psi_{i-1,j}+\\psi_{i-1,j-1} \\right]+\\left[\\psi_{i+1,j+1}-2\\psi_{i,j+1}+\\psi_{i-1,j+1}+\\psi_{i,j+2}-2\\psi_{i,j+1}+\\psi_{i,j} \\right]+\\left[\\psi_{i+1,j-1}-2\\psi_{i,j-1}+\\psi_{i-1,j-1}+\\psi_{i,j}-2\\psi_{i,j-1}+\\psi_{i,j-2} \\right]$$\n",
    "\n",
    "L'expression finale de la discrétisation de notre équation biharmonique est finalement donnée par:\n",
    "\n",
    "$$0=20\\psi_{i,j}-8\\psi_{i+1,j}-8\\psi_{i-1,j}-8\\psi_{i,j+1}-8\\psi_{i,j-1}+2\\psi_{i+1,j+1}+2\\psi_{i+1,j-1}+2\\psi_{i-1,j+1}+2\\psi_{i-1,j-1}+\\psi_{i+2,j}+\\psi_{i-2,j}+\\psi_{i,j+2}+\\psi_{i,j-2}$$"
   ]
  },
  {
   "cell_type": "markdown",
   "metadata": {},
   "source": [
    "## **Discrétisation des conditions aux bords**"
   ]
  },
  {
   "cell_type": "markdown",
   "metadata": {},
   "source": [
    "Avant d'implémenter les conditions aux bords dans la méthode du gradient conjugué, nous allons également discrétiser les conditions aux bords via la discrétisation forward/backward du second ordre (source : https://en.wikipedia.org/wiki/Finite_difference_coefficient) :\n",
    "\n",
    "\n",
    "$\\bullet$ Pour le bord gauche:\n",
    "$$0=\\frac{\\partial \\psi}{\\partial x}=\\frac{\\frac{-3}{2}\\psi_{0,j}+2\\psi_{1,j}-\\frac{1}{2}\\psi_{2,j}}{\\Delta x}$$\n",
    "Ce qui donne:\n",
    "$$\\psi_{1,j}=\\frac{1}{4}\\psi_{2,j}$$\n",
    "\n",
    "sachant que $\\psi$ est nulle sur les bords.\n",
    "\n",
    "$\\bullet$ Pour le bord inférieur:\n",
    "$$0=\\frac{\\partial \\psi}{\\partial y}=\\frac{\\frac{-3}{2}\\psi_{i,0}+2\\psi_{i,1}-\\frac{1}{2}\\psi_{i,2}}{\\Delta y}$$\n",
    "Ce qui donne:\n",
    "$$\\psi_{i,1}=\\frac{1}{4}\\psi_{i,2}$$\n",
    "\n",
    "$\\bullet$ Pour le bord droit:\n",
    "$$0=\\frac{\\partial \\psi}{\\partial x}=\\frac{\\frac{3}{2}\\psi_{n_x,j}-2\\psi_{n_x-1,j}+\\frac{1}{2}\\psi_{n_x-2,j}}{\\Delta x}$$\n",
    "Ce qui donne:\n",
    "$$\\psi_{n_x-1,j}=\\frac{1}{4}\\psi_{n_x-2,j}$$\n",
    "\n",
    "$\\bullet$ Pour le bord supérieur:\n",
    "$$1=\\frac{\\partial \\psi}{\\partial y}=\\frac{\\frac{3}{2}\\psi_{i,n_y}-2\\psi_{i,n_y-1}+\\frac{1}{2}\\psi_{i,n_y-2}}{\\Delta y}$$\n",
    "Ce qui donne:\n",
    "$$\\psi_{i,n_y-1}=\\frac{-1}{2}(\\Delta y-\\frac{1}{2}\\psi_{i,n_y-2})$$\n",
    "\n",
    "avec $n_x,n_y$ le nombre de discrétisation dans la direction $x$ et $y$. \n",
    "\n",
    "On peut maintenant implémenter nos conditions initiales et conditions de bords."
   ]
  },
  {
   "cell_type": "code",
   "execution_count": 25,
   "metadata": {
    "collapsed": true
   },
   "outputs": [],
   "source": [
    "#On importe les outils nécéssaires à la réalisation de nos algorithmes\n",
    "import numpy\n",
    "from math import pi\n",
    "%matplotlib inline\n",
    "from matplotlib import pyplot, cm, rcParams"
   ]
  },
  {
   "cell_type": "markdown",
   "metadata": {},
   "source": [
    "Tout d'abord, on impose les dimensions de notre cavité, et aussi la discrétisation par rapport à laquelle on va résoudre notre équation. On note également la valeur maximale que l'on veut pour la différence en norme L1 entre deux itérations successives dans la méthode du gradient conjugué. "
   ]
  },
  {
   "cell_type": "code",
   "execution_count": 26,
   "metadata": {
    "collapsed": true
   },
   "outputs": [],
   "source": [
    "l = 1.\n",
    "h = 1.\n",
    "\n",
    "nx = 41\n",
    "ny = 41\n",
    "\n",
    "dx = l/(nx-1)\n",
    "dy = h/(ny-1)\n",
    "\n",
    "l1_target = 1e-8 "
   ]
  },
  {
   "cell_type": "markdown",
   "metadata": {},
   "source": [
    "On implémente une fonction qui va permettre de déterminer cette norme $L_1$ entre deux itérations succéssives :"
   ]
  },
  {
   "cell_type": "code",
   "execution_count": 27,
   "metadata": {
    "collapsed": true
   },
   "outputs": [],
   "source": [
    "def L1norm(new, old):\n",
    "    norm = numpy.sum(numpy.abs(new-old))\n",
    "    return norm"
   ]
  },
  {
   "cell_type": "markdown",
   "metadata": {},
   "source": [
    "Rappelons que l'équation biharmonique peut s'écrire sous forme de système linéaire:\n",
    "\n",
    "$$A\\textbf{p}=\\textbf{b}$$\n",
    "Cependant, dans notre cas, on se retrouve avec une équation homogène, c'est-à-dire que $\\textbf{b}=0$, le système linéaire prend donc la forme suivante:\n",
    "\n",
    "$$A\\textbf{p}=0$$\n",
    "On va donc imposer dans la cellule suivante que les valeurs de $b$ sont nulles partout.\n",
    "On impose aussi que la solution est nulle partout initialement, et on implémente les conditions de Neuman sur les bords."
   ]
  },
  {
   "cell_type": "code",
   "execution_count": 28,
   "metadata": {
    "collapsed": true
   },
   "outputs": [],
   "source": [
    "b=numpy.zeros((nx,ny))            #Dans notre cas, on a une équation homogène, ce qui implique que b=0 \n",
    "p_i=numpy.zeros((nx,ny))           #On intialise la valeur de la solution à 0\n",
    "p_i[0,:]=0 #bord inférieur        #Conditions de Dirichlet(on doit les imposer si p_i est différent de numpy.zeros)\n",
    "p_i[:,0]=0 #bord gauche\n",
    "p_i[-1,:]=0 #bord supérieur\n",
    "p_i[:,-1]=0 #bord droit\n",
    "p_i[-2,1:-1]=-(1/2)*(dy-0.5*p_i[-3,1:-1]) #bord supérieur      #Conditions de Neumann\n",
    "p_i[1,1:-1]=0.25*p_i[2,1:-1]      #bord inférieur\n",
    "p_i[1:-1,1]=0.25*p_i[1:-1,2]      #bord gauche\n",
    "p_i[1:-1,-2]=0.25*p_i[1:-1,-3]    #bord droit"
   ]
  },
  {
   "cell_type": "markdown",
   "metadata": {},
   "source": [
    "##  **Résolution de l'équation biharmonique par la méthode du gradient conjugué**\n"
   ]
  },
  {
   "cell_type": "markdown",
   "metadata": {},
   "source": [
    "Maintenant que nous avons posé le \"contexte\" du problème ainsi que les conditions initiales , on peut passer à la résolution de celui-ci.\n",
    "\n",
    "On implémente dans une fonction la méthode du gradient conjugué vue au cours.\n",
    "\n",
    "** REMARQUES ** : Le code doit être modifié par rapport à celui du cours car ici on a des conditions de Dirichlet et Neumann à ajouter. Nous les appliquons à la fois à $p$ (solution $\\psi$) et à $d$ (direction dans l'algorithme) car on voit dans la définition du gradient conjugué que $d$ porte un rôle similaire à celui de $p$. "
   ]
  },
  {
   "cell_type": "code",
   "execution_count": 29,
   "metadata": {
    "collapsed": true
   },
   "outputs": [],
   "source": [
    "def conjugate_gradient_2d(p, b, dx, dy, l1_target):\n",
    "    ny, nx = p.shape\n",
    "    r  = numpy.zeros((ny,nx))\n",
    "    Ad  = numpy.zeros((ny,nx)) \n",
    "    \n",
    "    l1_norm = 1\n",
    "    iterations = 0\n",
    "    l1_conv = []\n",
    "    \n",
    "    r[2:-2,2:-2] = b[2:-2,2:-2]-(20*p[2:-2,2:-2] - 8*p[2:-2,3:-1] - 8*p[3:-1,2:-2] - 8*p[2:-2,1:-3] \\\n",
    "                                 - 8*p[1:-3,2:-2] + 2*p[3:-1,3:-1] + 2*p[1:-3,3:-1] + 2*p[3:-1,1:-3] \\\n",
    "                                 + 2*p[1:-3,1:-3] + p[2:-2,4:] + p[:-4,2:-2] + p[2:-2,:-4] + p[4:,2:-2])/dx**4\n",
    "\n",
    "    d = r.copy()\n",
    "    #condition de dirichlet sur d\n",
    "    d[0,:]=0\n",
    "    d[:,0]=0\n",
    "    d[-1,:]=0\n",
    "    d[:,-1]=0\n",
    "    #bord supérieur\n",
    "    d[-2,1:-1]=(1/2)*(-dy+0.5*d[-3,1:-1])\n",
    "    #bord inférieur\n",
    "    d[1,1:-1]=0.25*d[2,1:-1]\n",
    "    #bord gauche\n",
    "    d[1:-1,1]=0.25*d[1:-1,2]\n",
    "    #bord droit\n",
    "    d[1:-1,-2]=0.25*d[1:-1,-3]\n",
    "    \n",
    "    rho = numpy.sum(r*r)\n",
    "    \n",
    "    Ad[2:-2,2:-2] = (20*d[2:-2,2:-2] - 8*d[2:-2,3:-1] - 8*d[3:-1,2:-2] - 8*d[2:-2,1:-3] - 8*d[1:-3,2:-2] \\\n",
    "                     + 2*d[3:-1,3:-1] + 2*d[1:-3,3:-1] + 2*d[3:-1,1:-3] + 2*d[1:-3,1:-3] + d[2:-2,4:] \\\n",
    "                     + d[:-4,2:-2] + d[2:-2,:-4] + d[4:,2:-2])/dx**4\n",
    "   \n",
    "    sigma = numpy.sum(d*Ad)\n",
    "    \n",
    "    # Iterations\n",
    "    while l1_norm > l1_target:\n",
    "        \n",
    "    \n",
    "        \n",
    "        pk = p.copy()\n",
    "        rk = r.copy()\n",
    "        dk = d.copy()\n",
    "        \n",
    "        alpha = rho/sigma\n",
    "\n",
    "        p = pk + alpha*dk\n",
    "        r = rk- alpha*Ad\n",
    "        \n",
    "        p[0,:]=0\n",
    "        p[:,0]=0\n",
    "        p[-1,:]=0\n",
    "        p[:,-1]=0\n",
    "        #Conditions de Neuman        \n",
    "        #bord supérieur\n",
    "        p[-2,1:-1]=(1/2)*(-dy+0.5*p[-3,1:-1])\n",
    "        #bord inférieur\n",
    "        p[1,1:-1]=0.25*p[2,1:-1]\n",
    "        #bord gauche\n",
    "        p[1:-1,1]=0.25*p[1:-1,2]\n",
    "        #bord droit\n",
    "        p[1:-1,-2]=0.25*p[1:-1,-3]\n",
    "        \n",
    "        \n",
    "        rhop1 = numpy.sum(r*r)\n",
    "        beta = rhop1 / rho\n",
    "        rho = rhop1\n",
    "        \n",
    "        d = r + beta*dk\n",
    "        #condition de dirichlet sur d\n",
    "        d[0,:]=0\n",
    "        d[:,0]=0\n",
    "        d[-1,:]=0\n",
    "        d[:,-1]=0\n",
    "        #bord supérieur\n",
    "        d[-2,1:-1]=(1/2)*(-dy+0.5*d[-3,1:-1])\n",
    "        #bord inférieur\n",
    "        d[1,1:-1]=0.25*d[2,1:-1]\n",
    "        #bord gauche\n",
    "        d[1:-1,1]=0.25*d[1:-1,2]\n",
    "        #bord droit\n",
    "        d[1:-1,-2]=0.25*d[1:-1,-3]\n",
    "        \n",
    "        Ad[2:-2,2:-2] = (20*d[2:-2,2:-2] - 8*d[2:-2,3:-1] - 8*d[3:-1,2:-2] - 8*d[2:-2,1:-3] - 8*d[1:-3,2:-2] \\\n",
    "                         + 2*d[3:-1,3:-1] + 2*d[1:-3,3:-1] + 2*d[3:-1,1:-3] + 2*d[1:-3,1:-3] \\\n",
    "                         + d[2:-2,4:] + d[:-4,2:-2] + d[2:-2,:-4] + d[4:,2:-2])/dx**4\n",
    "    \n",
    "        sigma = numpy.sum(d*Ad)\n",
    "        \n",
    "        \n",
    "        l1_norm = L1norm(pk,p)\n",
    "        iterations += 1\n",
    "        l1_conv.append(l1_norm)\n",
    "    \n",
    "    print('Nombre d itérations: {0:d}'.format(iterations))\n",
    "    return p, l1_conv     "
   ]
  },
  {
   "cell_type": "markdown",
   "metadata": {},
   "source": [
    "Appliquons donc cette méthode avec nos conditions initiales afin de déterminer la solution de l'équations biharmonique pour notre cavité : "
   ]
  },
  {
   "cell_type": "code",
   "execution_count": 30,
   "metadata": {},
   "outputs": [
    {
     "name": "stdout",
     "output_type": "stream",
     "text": [
      "Nombre d itérations: 39554\n"
     ]
    }
   ],
   "source": [
    "p, l1_conv = conjugate_gradient_2d(p_i.copy(), b, dx, dy, l1_target)"
   ]
  },
  {
   "cell_type": "markdown",
   "metadata": {},
   "source": [
    "Maintenant que nous avons calculé la solution de l'équation en tout point de notre domaine, on peut la représenter graphiquement afin d'avoir une meilleure vision du résultat.\n",
    "\n",
    "**Remarque** : L'échelle de couleur à droite du graphique représente les valeurs de la solution, et n'a pas d'unités."
   ]
  },
  {
   "cell_type": "code",
   "execution_count": 31,
   "metadata": {},
   "outputs": [
    {
     "data": {
      "image/png": "[encoded data removed]",
      "text/plain": [
       "<matplotlib.figure.Figure at 0x1715f86fc88>"
      ]
     },
     "metadata": {},
     "output_type": "display_data"
    }
   ],
   "source": [
    "#Représentation graphique de la solution\n",
    "x = numpy.linspace(0,l,nx)\n",
    "y = numpy.linspace(0,h,ny)\n",
    "\n",
    "pyplot.figure(figsize=(10,8.5))\n",
    "pyplot.contourf(x,y,p,12,cmap=cm.viridis)\n",
    "pyplot.xlabel('$x$', fontsize=17)\n",
    "pyplot.ylabel('$y$', fontsize=17)\n",
    "pyplot.title(r'Réprésentation graphique de $\\psi$ dans la cavité', fontsize=16)\n",
    "pyplot.colorbar();"
   ]
  },
  {
   "cell_type": "markdown",
   "metadata": {},
   "source": [
    "Sur ce schéma, on observe une série de bandes de couleurs qui se referment sur elles-mêmes tout en circulant atour d'un point, qui est approximativement situé en $(x,y)=(0.5,0.8)$. Or on sait que chaque couleur représente une valeur de la fonction $\\psi$ et que les lignes de valeurs constantes de $\\psi$ sont des lignes de courant.\n",
    "\n",
    "On a donc des lignes d'écoulement de fluide ciruclant autour d'un point de notre domaine."
   ]
  },
  {
   "cell_type": "markdown",
   "metadata": {},
   "source": [
    "## **Valeur de la stream function $\\psi$ en certains points du domaine**"
   ]
  },
  {
   "cell_type": "markdown",
   "metadata": {},
   "source": [
    "Regardons ce que vaut notre solution en certains points du domaine (x,y): (0.6,0.2), (0.6,0.4), (0.6,0.6), (0.6,0.8)."
   ]
  },
  {
   "cell_type": "code",
   "execution_count": 32,
   "metadata": {},
   "outputs": [
    {
     "name": "stdout",
     "output_type": "stream",
     "text": [
      "La valeur de la fonction de courant en (x,y)=(0.6,0.2) est: -0.0100320539043\n",
      "La valeur de la fonction de courant en (x,y)=(0.6,0.4) est: -0.0361475210529\n",
      "La valeur de la fonction de courant en (x,y)=(0.6,0.6) est: -0.0738196855117\n",
      "La valeur de la fonction de courant en (x,y)=(0.6,0.8) est: -0.0945146084372\n"
     ]
    }
   ],
   "source": [
    "print('La valeur de la fonction de courant en (x,y)=(0.6,0.2) est:',p[8,24])\n",
    "print('La valeur de la fonction de courant en (x,y)=(0.6,0.4) est:',p[16,24])\n",
    "print('La valeur de la fonction de courant en (x,y)=(0.6,0.6) est:',p[24,24])\n",
    "print('La valeur de la fonction de courant en (x,y)=(0.6,0.8) est:',p[32,24])"
   ]
  },
  {
   "cell_type": "markdown",
   "metadata": {},
   "source": [
    "# **CONCLUSION** \n",
    "\n",
    "Pour résumer, nous avons résolu numériquement le problème \"lid driven cavity\" pour l'équation biharmonique par l'algorithme du gradient congugué, qui s'est s'avéré être une méthode efficace. Qui plus est, la méthode s'avère donner des solutions pratiquement identiques pour des conditions initiales p_i différentes (ici, on a essayé avec p_i = 0 partout, mais nous l'avons également essayé de notre côté avec d'autres conditions initiales). Seul le nombre d'itérations varie en fonction des conditions initiales. On a constaté que la solution en des lignes d'écoulement circulant autour d'un point du domaine. "
   ]
  }
 ],
 "metadata": {
  "kernelspec": {
   "display_name": "Python 3",
   "language": "python",
   "name": "python3"
  },
  "language_info": {
   "codemirror_mode": {
    "name": "ipython",
    "version": 3
   },
   "file_extension": ".py",
   "mimetype": "text/x-python",
   "name": "python",
   "nbconvert_exporter": "python",
   "pygments_lexer": "ipython3",
   "version": "3.6.1"
  }
 },
 "nbformat": 4,
 "nbformat_minor": 2
}
